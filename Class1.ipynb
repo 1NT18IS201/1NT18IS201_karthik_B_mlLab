{
 "cells": [
  {
   "cell_type": "markdown",
   "metadata": {},
   "source": [
    "# Calculator"
   ]
  },
  {
   "cell_type": "code",
   "execution_count": 40,
   "metadata": {
    "scrolled": true
   },
   "outputs": [
    {
     "name": "stdout",
     "output_type": "stream",
     "text": [
      "Enter operand 1\t20\n",
      "Enter operand 2\t10\n",
      "Options\n",
      "1.Sum\n",
      "2.Subtract\n",
      "3.Multiply\n",
      "4.Divide\n",
      "5.Exit\n",
      "5\n",
      "Exiting...\n"
     ]
    }
   ],
   "source": [
    "a = int(input(\"Enter operand 1\\t\"))\n",
    "b = int(input(\"Enter operand 2\\t\"))\n",
    "print(\"Options\\n1.Sum\\n2.Subtract\\n3.Multiply\\n4.Divide\\n5.Exit\")\n",
    "x = input()\n",
    "if x == \"1\":\n",
    "    print(a + b)\n",
    "elif x == \"2\":\n",
    "    print(a-b)\n",
    "elif x == \"3\":\n",
    "    print(a*b)\n",
    "elif x == \"4\":\n",
    "    print(a/b)\n",
    "elif x == \"5\":\n",
    "    print(\"Exiting...\")\n",
    "else:\n",
    "    print(\"Invalid Input\")"
   ]
  },
  {
   "cell_type": "markdown",
   "metadata": {},
   "source": [
    "# Bubble Sort"
   ]
  },
  {
   "cell_type": "code",
   "execution_count": 56,
   "metadata": {
    "scrolled": false
   },
   "outputs": [
    {
     "data": {
      "text/plain": [
       "[1, 2, 2, 3, 4, 5, 6, 8, 9]"
      ]
     },
     "execution_count": 56,
     "metadata": {},
     "output_type": "execute_result"
    }
   ],
   "source": [
    "l1 = [5,6,2,4,1,8,3,9,2]\n",
    "for i in range(0,len(l1)):\n",
    "    for j in range(i,len(l1)):\n",
    "        if l1[i] > l1[j]:\n",
    "            temp = l1[i]\n",
    "            l1[i] = l1[j]\n",
    "            l1[j] = temp\n",
    "l1"
   ]
  },
  {
   "cell_type": "markdown",
   "metadata": {},
   "source": [
    "# Mean, Median, Mode"
   ]
  },
  {
   "cell_type": "code",
   "execution_count": 65,
   "metadata": {},
   "outputs": [
    {
     "name": "stdout",
     "output_type": "stream",
     "text": [
      "Mean:  4.444444444444445\n"
     ]
    }
   ],
   "source": [
    "avg = sum(l1) / len(l1)\n",
    "print(\"Mean: \", avg)"
   ]
  },
  {
   "cell_type": "code",
   "execution_count": 54,
   "metadata": {},
   "outputs": [
    {
     "data": {
      "text/plain": [
       "4.5"
      ]
     },
     "execution_count": 54,
     "metadata": {},
     "output_type": "execute_result"
    }
   ],
   "source": [
    "l = len(l1)\n",
    "\n",
    "if l%2 !=0:\n",
    "    median = l1[int((l + 1)/2) - 1]\n",
    "else:\n",
    "    median = (l1[int(l/2) - 1] + l1[int(l/2 + 1) - 1]) / 2\n",
    "median"
   ]
  },
  {
   "cell_type": "code",
   "execution_count": 64,
   "metadata": {
    "scrolled": true
   },
   "outputs": [
    {
     "data": {
      "text/plain": [
       "2"
      ]
     },
     "execution_count": 64,
     "metadata": {},
     "output_type": "execute_result"
    }
   ],
   "source": [
    "count = {}\n",
    "max = 0\n",
    "for i in range(0,len(l1)):\n",
    "    if l1[i] not in count:\n",
    "        count[l1[i]] = 1\n",
    "    else:\n",
    "        count[l1[i]] += 1\n",
    "    if max < count[l1[i]]:\n",
    "        max = count[l1[i]]\n",
    "        mode = l1[i]\n",
    "mode"
   ]
  },
  {
   "cell_type": "markdown",
   "metadata": {},
   "source": [
    "# Standard Deviation"
   ]
  },
  {
   "cell_type": "code",
   "execution_count": 68,
   "metadata": {},
   "outputs": [
    {
     "data": {
      "text/plain": [
       "2.629368792488718"
      ]
     },
     "execution_count": 68,
     "metadata": {},
     "output_type": "execute_result"
    }
   ],
   "source": [
    "y = []\n",
    "for i in range(0,len(l1)):\n",
    "    y.append((l1[i] - avg) ** 2)\n",
    "var = sum(y) / len(l1)\n",
    "sd = (var) ** (1/2)\n",
    "sd"
   ]
  },
  {
   "cell_type": "code",
   "execution_count": null,
   "metadata": {},
   "outputs": [],
   "source": []
  }
 ],
 "metadata": {
  "kernelspec": {
   "display_name": "Python 3",
   "language": "python",
   "name": "python3"
  },
  "language_info": {
   "codemirror_mode": {
    "name": "ipython",
    "version": 3
   },
   "file_extension": ".py",
   "mimetype": "text/x-python",
   "name": "python",
   "nbconvert_exporter": "python",
   "pygments_lexer": "ipython3",
   "version": "3.8.5"
  }
 },
 "nbformat": 4,
 "nbformat_minor": 4
}
