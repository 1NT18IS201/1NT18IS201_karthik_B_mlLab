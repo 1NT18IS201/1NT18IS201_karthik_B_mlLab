{
 "cells": [
  {
   "cell_type": "code",
   "execution_count": 1,
   "metadata": {},
   "outputs": [],
   "source": [
    "import numpy as np\n",
    "import matplotlib.pyplot as plt"
   ]
  },
  {
   "cell_type": "code",
   "execution_count": 2,
   "metadata": {},
   "outputs": [
    {
     "data": {
      "text/plain": [
       "[[5.9, 3.2],\n",
       " [4.6, 2.9],\n",
       " [6.2, 2.8],\n",
       " [4.7, 3.2],\n",
       " [5.5, 4.2],\n",
       " [5.0, 3.0],\n",
       " [4.9, 3.1],\n",
       " [6.7, 3.1],\n",
       " [5.1, 3.8],\n",
       " [6.0, 3.0]]"
      ]
     },
     "execution_count": 2,
     "metadata": {},
     "output_type": "execute_result"
    }
   ],
   "source": [
    "X = [[5.9,3.2],[4.6,2.9],[6.2,2.8],[4.7,3.2],[5.5,4.2],[5.0,3.0],[4.9,3.1],[6.7,3.1],[5.1,3.8],[6.0,3.0]]\n",
    "X"
   ]
  },
  {
   "cell_type": "code",
   "execution_count": 3,
   "metadata": {},
   "outputs": [
    {
     "data": {
      "image/png": "[encoded data removed]",
      "text/plain": [
       "<Figure size 432x288 with 1 Axes>"
      ]
     },
     "metadata": {
      "needs_background": "light"
     },
     "output_type": "display_data"
    }
   ],
   "source": [
    "plt.scatter(*zip(*X)) \n",
    "plt.show()"
   ]
  },
  {
   "cell_type": "code",
   "execution_count": 4,
   "metadata": {},
   "outputs": [
    {
     "data": {
      "text/plain": [
       "[6.6, 3.7]"
      ]
     },
     "execution_count": 4,
     "metadata": {},
     "output_type": "execute_result"
    }
   ],
   "source": [
    "k = 3\n",
    "clusters = {}\n",
    "centroids = [[6.2, 3.2], [6.6, 3.7], [6.5, 3.0]]\n",
    "centroids[1]"
   ]
  },
  {
   "cell_type": "code",
   "execution_count": 5,
   "metadata": {},
   "outputs": [],
   "source": [
    "def k_means(X, centroids, k):\n",
    "    for l in range(k):\n",
    "        clusters[l] = []\n",
    "    for i in range(len(X)):\n",
    "        euc_dist = []\n",
    "        for j in range(k):\n",
    "            #print(np.linalg.norm(data - centroids[j]))\n",
    "            #print( (((centroids[j][0] - X[i][0]) ** 2) + ((centroids[j][1] - X[i][1]) ** 2)) ** (1/2) )\n",
    "            euc_dist.append(( (((centroids[j][0] - X[i][0]) ** 2) + ((centroids[j][1] - X[i][1]) ** 2)) ** (1/2) ))\n",
    "        #print(clusters[euc_dist.index(min(euc_dist))])\n",
    "        clusters[euc_dist.index(min(euc_dist))].append(X[i])\n",
    "        #print(euc_dist)\n",
    "    #print(clusters)"
   ]
  },
  {
   "cell_type": "code",
   "execution_count": 6,
   "metadata": {},
   "outputs": [],
   "source": [
    "def avg_cent(X, centroids, k):\n",
    "    for i in range(k):\n",
    "            x_sum = 0\n",
    "            y_sum = 0\n",
    "            for j in range(len(clusters[i])):\n",
    "                #print(clusters[i][j])\n",
    "                x_sum += clusters[i][j][0]\n",
    "                y_sum += clusters[i][j][1]\n",
    "            centroids[i] = [round( (x_sum / len(clusters[i])),3) , round( (y_sum / len(clusters[i])) , 3)]\n",
    "            #centroids[i] = np.average(clusters[i], axis=0)\n",
    "    return centroids"
   ]
  },
  {
   "cell_type": "code",
   "execution_count": 7,
   "metadata": {},
   "outputs": [
    {
     "name": "stdout",
     "output_type": "stream",
     "text": [
      "The centroid for cluster 1 is  [5.171, 3.171]\n"
     ]
    }
   ],
   "source": [
    "#ans = round(centroids[0],3)\n",
    "k_means(X, centroids, k)\n",
    "avg_cent(X, centroids, k)\n",
    "print(\"The centroid for cluster 1 is \", centroids[0])"
   ]
  },
  {
   "cell_type": "code",
   "execution_count": 8,
   "metadata": {},
   "outputs": [
    {
     "name": "stdout",
     "output_type": "stream",
     "text": [
      "The centroid for cluster 2 is  [5.3, 4.0]\n"
     ]
    }
   ],
   "source": [
    "k_means(X, centroids, k)\n",
    "avg_cent(X, centroids, k)\n",
    "print(\"The centroid for cluster 2 is \", centroids[1])"
   ]
  },
  {
   "cell_type": "code",
   "execution_count": 9,
   "metadata": {},
   "outputs": [
    {
     "name": "stdout",
     "output_type": "stream",
     "text": [
      "Iteration is  3  :  [[4.8, 3.05], [5.3, 4.0], [6.2, 3.025]]\n",
      "Iteration is  4  :  [[4.8, 3.05], [5.3, 4.0], [6.2, 3.025]]\n",
      "Iteration is  5  :  [[4.8, 3.05], [5.3, 4.0], [6.2, 3.025]]\n",
      "Iteration is  6  :  [[4.8, 3.05], [5.3, 4.0], [6.2, 3.025]]\n"
     ]
    }
   ],
   "source": [
    "for i in range(4):\n",
    "    k_means(X, centroids, k)\n",
    "    avg_cent(X, centroids, k)\n",
    "    print(\"Iteration is \", i + 3, \" : \", centroids)"
   ]
  },
  {
   "cell_type": "code",
   "execution_count": 10,
   "metadata": {},
   "outputs": [
    {
     "name": "stdout",
     "output_type": "stream",
     "text": [
      "Cluster converges at iteration 2\n",
      "The centroid for cluster 3 is  [6.2, 3.025]\n"
     ]
    }
   ],
   "source": [
    "print(\"Cluster converges at iteration 2\")\n",
    "print(\"The centroid for cluster 3 is \", centroids[2])"
   ]
  },
  {
   "cell_type": "code",
   "execution_count": null,
   "metadata": {},
   "outputs": [],
   "source": []
  }
 ],
 "metadata": {
  "kernelspec": {
   "display_name": "Python 3 (ipykernel)",
   "language": "python",
   "name": "python3"
  },
  "language_info": {
   "codemirror_mode": {
    "name": "ipython",
    "version": 3
   },
   "file_extension": ".py",
   "mimetype": "text/x-python",
   "name": "python",
   "nbconvert_exporter": "python",
   "pygments_lexer": "ipython3",
   "version": "3.9.0"
  }
 },
 "nbformat": 4,
 "nbformat_minor": 4
}
